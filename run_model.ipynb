{
 "cells": [
  {
   "cell_type": "code",
   "execution_count": 3,
   "id": "3452a474",
   "metadata": {
    "scrolled": false
   },
   "outputs": [
    {
     "name": "stdout",
     "output_type": "stream",
     "text": [
      "Traceback (most recent call last):\r\n",
      "  File \"/data/users1/reihaneh/Course/ECE_8803/Project/GenDL-MultiModal-AD/main.py\", line 41, in <module>\r\n",
      "    main(config)\r\n",
      "  File \"/data/users1/reihaneh/Course/ECE_8803/Project/GenDL-MultiModal-AD/main.py\", line 34, in main\r\n",
      "    trainer.train()\r\n",
      "  File \"/data/users1/reihaneh/Course/ECE_8803/Project/GenDL-MultiModal-AD/trainer.py\", line 67, in train\r\n",
      "    X_train_valid = pd.read_csv(f'{self.config.data_path}/train_r{self.config.repeat_num}s{self.config.split_num}.csv')\r\n",
      "  File \"/home/users/rhassanzadeh1/anaconda3/envs/pytorch_py39/lib/python3.9/site-packages/pandas/util/_decorators.py\", line 311, in wrapper\r\n",
      "    return func(*args, **kwargs)\r\n",
      "  File \"/home/users/rhassanzadeh1/anaconda3/envs/pytorch_py39/lib/python3.9/site-packages/pandas/io/parsers/readers.py\", line 680, in read_csv\r\n",
      "    return _read(filepath_or_buffer, kwds)\r\n",
      "  File \"/home/users/rhassanzadeh1/anaconda3/envs/pytorch_py39/lib/python3.9/site-packages/pandas/io/parsers/readers.py\", line 575, in _read\r\n",
      "    parser = TextFileReader(filepath_or_buffer, **kwds)\r\n",
      "  File \"/home/users/rhassanzadeh1/anaconda3/envs/pytorch_py39/lib/python3.9/site-packages/pandas/io/parsers/readers.py\", line 933, in __init__\r\n",
      "    self._engine = self._make_engine(f, self.engine)\r\n",
      "  File \"/home/users/rhassanzadeh1/anaconda3/envs/pytorch_py39/lib/python3.9/site-packages/pandas/io/parsers/readers.py\", line 1217, in _make_engine\r\n",
      "    self.handles = get_handle(  # type: ignore[call-overload]\r\n",
      "  File \"/home/users/rhassanzadeh1/anaconda3/envs/pytorch_py39/lib/python3.9/site-packages/pandas/io/common.py\", line 789, in get_handle\r\n",
      "    handle = open(\r\n",
      "FileNotFoundError: [Errno 2] No such file or directory: 'train_test_splits\\\\/train_r1s1.csv'\r\n"
     ]
    }
   ],
   "source": [
    "!python main.py --trial 1 --is_train True --epochs 100 --dataset 'ADNI'\\\n",
    "    --weight_decay 0.004 --batch_size 32 --num_workers 4\\\n",
    "    --flush True --early_stop False --train_patience 20 --repeat_num 1 --split_num 1\\\n",
    "    --data_path 'train_test_splits'\\\n"
   ]
  },
  {
   "cell_type": "code",
   "execution_count": null,
   "id": "0d64099b",
   "metadata": {},
   "outputs": [],
   "source": []
  }
 ],
 "metadata": {
  "kernelspec": {
   "display_name": "pytorch_py39",
   "language": "python",
   "name": "pytorch_py39"
  },
  "language_info": {
   "codemirror_mode": {
    "name": "ipython",
    "version": 3
   },
   "file_extension": ".py",
   "mimetype": "text/x-python",
   "name": "python",
   "nbconvert_exporter": "python",
   "pygments_lexer": "ipython3",
   "version": "3.9.7"
  }
 },
 "nbformat": 4,
 "nbformat_minor": 5
}
