{
 "cells": [
  {
   "cell_type": "code",
   "execution_count": null,
   "id": "3452a474",
   "metadata": {
    "scrolled": true
   },
   "outputs": [
    {
     "name": "stdout",
     "output_type": "stream",
     "text": [
      "\r",
      "  0%|                                                  | 0/5200 [00:00<?, ?it/s]"
     ]
    }
   ],
   "source": [
    "!python main.py --trial 10 --is_train True --epochs 100 --dataset 'ADNI'\\\n",
    "    --weight_decay 0.004 --batch_size 32 --num_workers 4\\\n",
    "    --flush True --early_stop False --train_patience 20 --repeat_num 1 --split_num 1\\\n",
    "    --data_path '/data/users1/reihaneh/projects/GenerativeProject/data/train_test_splits'\\\n",
    "    \n"
   ]
  },
  {
   "cell_type": "code",
   "execution_count": null,
   "id": "f7ee3022",
   "metadata": {},
   "outputs": [],
   "source": []
  }
 ],
 "metadata": {
  "kernelspec": {
   "display_name": "pytorch_py39",
   "language": "python",
   "name": "pytorch_py39"
  },
  "language_info": {
   "codemirror_mode": {
    "name": "ipython",
    "version": 3
   },
   "file_extension": ".py",
   "mimetype": "text/x-python",
   "name": "python",
   "nbconvert_exporter": "python",
   "pygments_lexer": "ipython3",
   "version": "3.9.7"
  }
 },
 "nbformat": 4,
 "nbformat_minor": 5
}
